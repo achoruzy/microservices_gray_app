{
 "metadata": {
  "language_info": {
   "codemirror_mode": {
    "name": "ipython",
    "version": 3
   },
   "file_extension": ".py",
   "mimetype": "text/x-python",
   "name": "python",
   "nbconvert_exporter": "python",
   "pygments_lexer": "ipython3",
   "version": "3.8.5"
  },
  "orig_nbformat": 4,
  "kernelspec": {
   "name": "python3",
   "display_name": "Python 3.8.5 64-bit ('base': conda)"
  },
  "interpreter": {
   "hash": "a628e331edb5c70ab686e5c0709bd3041d9873c604fa2fdf88a41c8b36db0522"
  }
 },
 "nbformat": 4,
 "nbformat_minor": 2,
 "cells": [
  {
   "cell_type": "code",
   "execution_count": 66,
   "metadata": {},
   "outputs": [
    {
     "output_type": "stream",
     "name": "stdout",
     "text": [
      "Status code: 200\n"
     ]
    }
   ],
   "source": [
    "import requests\n",
    "import csv\n",
    "import pandas as pd\n",
    "import matplotlib as mpl\n",
    "\n",
    "url = 'https://data.cityofnewyork.us/api/views/7yc5-fec2/rows.csv'\n",
    "url_file = requests.get(url)\n",
    "\n",
    "print('Status code:', url_file.status_code)"
   ]
  },
  {
   "cell_type": "code",
   "execution_count": 94,
   "metadata": {},
   "outputs": [
    {
     "output_type": "execute_result",
     "data": {
      "text/plain": [
       "         DBN                                    School Name  \\\n",
       "0     01M015                      P.S. 015 Roberto Clemente   \n",
       "1     01M015                      P.S. 015 Roberto Clemente   \n",
       "2     01M015                      P.S. 015 Roberto Clemente   \n",
       "3     01M015                      P.S. 015 Roberto Clemente   \n",
       "4     01M015                      P.S. 015 Roberto Clemente   \n",
       "...      ...                                            ...   \n",
       "6919  32K562  Evergreen Middle School for Urban Exploration   \n",
       "6920  32K562  Evergreen Middle School for Urban Exploration   \n",
       "6921  32K562  Evergreen Middle School for Urban Exploration   \n",
       "6922  32K562  Evergreen Middle School for Urban Exploration   \n",
       "6923  32K562  Evergreen Middle School for Urban Exploration   \n",
       "\n",
       "                                         Category     Year  Total Enrollment  \\\n",
       "0                                    All Students  2015-16             162.0   \n",
       "1     Attend school outside district of residence  2015-16              37.0   \n",
       "2                       English Language Learners  2015-16              16.0   \n",
       "3                                         Poverty  2015-16             162.0   \n",
       "4                     Reside in temporary housing  2015-16              65.0   \n",
       "...                                           ...      ...               ...   \n",
       "6919  Attend school outside district of residence  2015-16              71.0   \n",
       "6920                    English Language Learners  2015-16              73.0   \n",
       "6921                                      Poverty  2015-16             297.0   \n",
       "6922                  Reside in temporary housing  2015-16              49.0   \n",
       "6923                   Students with Disabilities  2015-16              74.0   \n",
       "\n",
       "     #Grade K #Grade 1 #Grade 2 #Grade 3 #Grade 4  ... MATH #Level 1  \\\n",
       "0          32       33       39       23       17  ...            25   \n",
       "1           7        7       11        7        s  ...             s   \n",
       "2           s        s        s        s        s  ...             s   \n",
       "3          32       33       39       23       17  ...            25   \n",
       "4          12       14       17       10        s  ...            11   \n",
       "...       ...      ...      ...      ...      ...  ...           ...   \n",
       "6919  No Data  No Data  No Data  No Data  No Data  ...            43   \n",
       "6920  No Data  No Data  No Data  No Data  No Data  ...            60   \n",
       "6921  No Data  No Data  No Data  No Data  No Data  ...           190   \n",
       "6922  No Data  No Data  No Data  No Data  No Data  ...            31   \n",
       "6923  No Data  No Data  No Data  No Data  No Data  ...            60   \n",
       "\n",
       "            MATH %Level 1 MATH #Level 2        MATH %Level 2 MATH #Level 3  \\\n",
       "0     0.46296296296296297            18   0.3333333333333333             s   \n",
       "1                       s             s                    s             s   \n",
       "2                       s             s                    s             s   \n",
       "3     0.46296296296296297            18   0.3333333333333333             s   \n",
       "4      0.5238095238095238             6   0.2857142857142857             s   \n",
       "...                   ...           ...                  ...           ...   \n",
       "6919   0.6615384615384615            20   0.3076923076923077             s   \n",
       "6920   0.8450704225352113            11  0.15492957746478872             s   \n",
       "6921   0.6761565836298933            84    0.298932384341637             s   \n",
       "6922   0.6595744680851063            14   0.2978723404255319             s   \n",
       "6923   0.8571428571428571             9  0.12857142857142856             s   \n",
       "\n",
       "     MATH %Level 3 MATH #Level 4 MATH %Level 4 MATH #L3+L4  \\\n",
       "0                s             s             s          11   \n",
       "1                s             s             s           s   \n",
       "2                s             s             s           s   \n",
       "3                s             s             s          11   \n",
       "4                s             s             s           s   \n",
       "...            ...           ...           ...         ...   \n",
       "6919             s             s             s           s   \n",
       "6920             s             s             s           s   \n",
       "6921             s             s             s           7   \n",
       "6922             s             s             s           s   \n",
       "6923             s             s             s           s   \n",
       "\n",
       "            MATH %L3 + L4  \n",
       "0      0.2037037037037037  \n",
       "1                       s  \n",
       "2                       s  \n",
       "3      0.2037037037037037  \n",
       "4                       s  \n",
       "...                   ...  \n",
       "6919                    s  \n",
       "6920                    s  \n",
       "6921  0.02491103202846975  \n",
       "6922                    s  \n",
       "6923                    s  \n",
       "\n",
       "[6924 rows x 70 columns]"
      ],
      "text/html": "<div>\n<style scoped>\n    .dataframe tbody tr th:only-of-type {\n        vertical-align: middle;\n    }\n\n    .dataframe tbody tr th {\n        vertical-align: top;\n    }\n\n    .dataframe thead th {\n        text-align: right;\n    }\n</style>\n<table border=\"1\" class=\"dataframe\">\n  <thead>\n    <tr style=\"text-align: right;\">\n      <th></th>\n      <th>DBN</th>\n      <th>School Name</th>\n      <th>Category</th>\n      <th>Year</th>\n      <th>Total Enrollment</th>\n      <th>#Grade K</th>\n      <th>#Grade 1</th>\n      <th>#Grade 2</th>\n      <th>#Grade 3</th>\n      <th>#Grade 4</th>\n      <th>...</th>\n      <th>MATH #Level 1</th>\n      <th>MATH %Level 1</th>\n      <th>MATH #Level 2</th>\n      <th>MATH %Level 2</th>\n      <th>MATH #Level 3</th>\n      <th>MATH %Level 3</th>\n      <th>MATH #Level 4</th>\n      <th>MATH %Level 4</th>\n      <th>MATH #L3+L4</th>\n      <th>MATH %L3 + L4</th>\n    </tr>\n  </thead>\n  <tbody>\n    <tr>\n      <th>0</th>\n      <td>01M015</td>\n      <td>P.S. 015 Roberto Clemente</td>\n      <td>All Students</td>\n      <td>2015-16</td>\n      <td>162.0</td>\n      <td>32</td>\n      <td>33</td>\n      <td>39</td>\n      <td>23</td>\n      <td>17</td>\n      <td>...</td>\n      <td>25</td>\n      <td>0.46296296296296297</td>\n      <td>18</td>\n      <td>0.3333333333333333</td>\n      <td>s</td>\n      <td>s</td>\n      <td>s</td>\n      <td>s</td>\n      <td>11</td>\n      <td>0.2037037037037037</td>\n    </tr>\n    <tr>\n      <th>1</th>\n      <td>01M015</td>\n      <td>P.S. 015 Roberto Clemente</td>\n      <td>Attend school outside district of residence</td>\n      <td>2015-16</td>\n      <td>37.0</td>\n      <td>7</td>\n      <td>7</td>\n      <td>11</td>\n      <td>7</td>\n      <td>s</td>\n      <td>...</td>\n      <td>s</td>\n      <td>s</td>\n      <td>s</td>\n      <td>s</td>\n      <td>s</td>\n      <td>s</td>\n      <td>s</td>\n      <td>s</td>\n      <td>s</td>\n      <td>s</td>\n    </tr>\n    <tr>\n      <th>2</th>\n      <td>01M015</td>\n      <td>P.S. 015 Roberto Clemente</td>\n      <td>English Language Learners</td>\n      <td>2015-16</td>\n      <td>16.0</td>\n      <td>s</td>\n      <td>s</td>\n      <td>s</td>\n      <td>s</td>\n      <td>s</td>\n      <td>...</td>\n      <td>s</td>\n      <td>s</td>\n      <td>s</td>\n      <td>s</td>\n      <td>s</td>\n      <td>s</td>\n      <td>s</td>\n      <td>s</td>\n      <td>s</td>\n      <td>s</td>\n    </tr>\n    <tr>\n      <th>3</th>\n      <td>01M015</td>\n      <td>P.S. 015 Roberto Clemente</td>\n      <td>Poverty</td>\n      <td>2015-16</td>\n      <td>162.0</td>\n      <td>32</td>\n      <td>33</td>\n      <td>39</td>\n      <td>23</td>\n      <td>17</td>\n      <td>...</td>\n      <td>25</td>\n      <td>0.46296296296296297</td>\n      <td>18</td>\n      <td>0.3333333333333333</td>\n      <td>s</td>\n      <td>s</td>\n      <td>s</td>\n      <td>s</td>\n      <td>11</td>\n      <td>0.2037037037037037</td>\n    </tr>\n    <tr>\n      <th>4</th>\n      <td>01M015</td>\n      <td>P.S. 015 Roberto Clemente</td>\n      <td>Reside in temporary housing</td>\n      <td>2015-16</td>\n      <td>65.0</td>\n      <td>12</td>\n      <td>14</td>\n      <td>17</td>\n      <td>10</td>\n      <td>s</td>\n      <td>...</td>\n      <td>11</td>\n      <td>0.5238095238095238</td>\n      <td>6</td>\n      <td>0.2857142857142857</td>\n      <td>s</td>\n      <td>s</td>\n      <td>s</td>\n      <td>s</td>\n      <td>s</td>\n      <td>s</td>\n    </tr>\n    <tr>\n      <th>...</th>\n      <td>...</td>\n      <td>...</td>\n      <td>...</td>\n      <td>...</td>\n      <td>...</td>\n      <td>...</td>\n      <td>...</td>\n      <td>...</td>\n      <td>...</td>\n      <td>...</td>\n      <td>...</td>\n      <td>...</td>\n      <td>...</td>\n      <td>...</td>\n      <td>...</td>\n      <td>...</td>\n      <td>...</td>\n      <td>...</td>\n      <td>...</td>\n      <td>...</td>\n      <td>...</td>\n    </tr>\n    <tr>\n      <th>6919</th>\n      <td>32K562</td>\n      <td>Evergreen Middle School for Urban Exploration</td>\n      <td>Attend school outside district of residence</td>\n      <td>2015-16</td>\n      <td>71.0</td>\n      <td>No Data</td>\n      <td>No Data</td>\n      <td>No Data</td>\n      <td>No Data</td>\n      <td>No Data</td>\n      <td>...</td>\n      <td>43</td>\n      <td>0.6615384615384615</td>\n      <td>20</td>\n      <td>0.3076923076923077</td>\n      <td>s</td>\n      <td>s</td>\n      <td>s</td>\n      <td>s</td>\n      <td>s</td>\n      <td>s</td>\n    </tr>\n    <tr>\n      <th>6920</th>\n      <td>32K562</td>\n      <td>Evergreen Middle School for Urban Exploration</td>\n      <td>English Language Learners</td>\n      <td>2015-16</td>\n      <td>73.0</td>\n      <td>No Data</td>\n      <td>No Data</td>\n      <td>No Data</td>\n      <td>No Data</td>\n      <td>No Data</td>\n      <td>...</td>\n      <td>60</td>\n      <td>0.8450704225352113</td>\n      <td>11</td>\n      <td>0.15492957746478872</td>\n      <td>s</td>\n      <td>s</td>\n      <td>s</td>\n      <td>s</td>\n      <td>s</td>\n      <td>s</td>\n    </tr>\n    <tr>\n      <th>6921</th>\n      <td>32K562</td>\n      <td>Evergreen Middle School for Urban Exploration</td>\n      <td>Poverty</td>\n      <td>2015-16</td>\n      <td>297.0</td>\n      <td>No Data</td>\n      <td>No Data</td>\n      <td>No Data</td>\n      <td>No Data</td>\n      <td>No Data</td>\n      <td>...</td>\n      <td>190</td>\n      <td>0.6761565836298933</td>\n      <td>84</td>\n      <td>0.298932384341637</td>\n      <td>s</td>\n      <td>s</td>\n      <td>s</td>\n      <td>s</td>\n      <td>7</td>\n      <td>0.02491103202846975</td>\n    </tr>\n    <tr>\n      <th>6922</th>\n      <td>32K562</td>\n      <td>Evergreen Middle School for Urban Exploration</td>\n      <td>Reside in temporary housing</td>\n      <td>2015-16</td>\n      <td>49.0</td>\n      <td>No Data</td>\n      <td>No Data</td>\n      <td>No Data</td>\n      <td>No Data</td>\n      <td>No Data</td>\n      <td>...</td>\n      <td>31</td>\n      <td>0.6595744680851063</td>\n      <td>14</td>\n      <td>0.2978723404255319</td>\n      <td>s</td>\n      <td>s</td>\n      <td>s</td>\n      <td>s</td>\n      <td>s</td>\n      <td>s</td>\n    </tr>\n    <tr>\n      <th>6923</th>\n      <td>32K562</td>\n      <td>Evergreen Middle School for Urban Exploration</td>\n      <td>Students with Disabilities</td>\n      <td>2015-16</td>\n      <td>74.0</td>\n      <td>No Data</td>\n      <td>No Data</td>\n      <td>No Data</td>\n      <td>No Data</td>\n      <td>No Data</td>\n      <td>...</td>\n      <td>60</td>\n      <td>0.8571428571428571</td>\n      <td>9</td>\n      <td>0.12857142857142856</td>\n      <td>s</td>\n      <td>s</td>\n      <td>s</td>\n      <td>s</td>\n      <td>s</td>\n      <td>s</td>\n    </tr>\n  </tbody>\n</table>\n<p>6924 rows × 70 columns</p>\n</div>"
     },
     "metadata": {},
     "execution_count": 94
    }
   ],
   "source": [
    "\n",
    "dataset = pd.read_csv(url)\n",
    "dataset"
   ]
  },
  {
   "cell_type": "code",
   "execution_count": 107,
   "metadata": {
    "tags": []
   },
   "outputs": [
    {
     "output_type": "execute_result",
     "data": {
      "text/plain": [
       "                 School Name                                     Category  \\\n",
       "0  P.S. 015 Roberto Clemente                                 All Students   \n",
       "1  P.S. 015 Roberto Clemente  Attend school outside district of residence   \n",
       "2  P.S. 015 Roberto Clemente                    English Language Learners   \n",
       "3  P.S. 015 Roberto Clemente                                      Poverty   \n",
       "4  P.S. 015 Roberto Clemente                  Reside in temporary housing   \n",
       "\n",
       "      Year  Total Enrollment             %Female                %Male  \n",
       "0  2015-16             162.0  0.4876543209876543   0.5123456790123457  \n",
       "1  2015-16              37.0  0.6486486486486487  0.35135135135135137  \n",
       "2  2015-16              16.0              0.4375               0.5625  \n",
       "3  2015-16             162.0  0.4876543209876543   0.5123456790123457  \n",
       "4  2015-16              65.0                 0.4                  0.6  "
      ],
      "text/html": "<div>\n<style scoped>\n    .dataframe tbody tr th:only-of-type {\n        vertical-align: middle;\n    }\n\n    .dataframe tbody tr th {\n        vertical-align: top;\n    }\n\n    .dataframe thead th {\n        text-align: right;\n    }\n</style>\n<table border=\"1\" class=\"dataframe\">\n  <thead>\n    <tr style=\"text-align: right;\">\n      <th></th>\n      <th>School Name</th>\n      <th>Category</th>\n      <th>Year</th>\n      <th>Total Enrollment</th>\n      <th>%Female</th>\n      <th>%Male</th>\n    </tr>\n  </thead>\n  <tbody>\n    <tr>\n      <th>0</th>\n      <td>P.S. 015 Roberto Clemente</td>\n      <td>All Students</td>\n      <td>2015-16</td>\n      <td>162.0</td>\n      <td>0.4876543209876543</td>\n      <td>0.5123456790123457</td>\n    </tr>\n    <tr>\n      <th>1</th>\n      <td>P.S. 015 Roberto Clemente</td>\n      <td>Attend school outside district of residence</td>\n      <td>2015-16</td>\n      <td>37.0</td>\n      <td>0.6486486486486487</td>\n      <td>0.35135135135135137</td>\n    </tr>\n    <tr>\n      <th>2</th>\n      <td>P.S. 015 Roberto Clemente</td>\n      <td>English Language Learners</td>\n      <td>2015-16</td>\n      <td>16.0</td>\n      <td>0.4375</td>\n      <td>0.5625</td>\n    </tr>\n    <tr>\n      <th>3</th>\n      <td>P.S. 015 Roberto Clemente</td>\n      <td>Poverty</td>\n      <td>2015-16</td>\n      <td>162.0</td>\n      <td>0.4876543209876543</td>\n      <td>0.5123456790123457</td>\n    </tr>\n    <tr>\n      <th>4</th>\n      <td>P.S. 015 Roberto Clemente</td>\n      <td>Reside in temporary housing</td>\n      <td>2015-16</td>\n      <td>65.0</td>\n      <td>0.4</td>\n      <td>0.6</td>\n    </tr>\n  </tbody>\n</table>\n</div>"
     },
     "metadata": {},
     "execution_count": 107
    }
   ],
   "source": [
    "df = pd.DataFrame(dataset, columns=['School Name', 'Category', 'Year', 'Total Enrollment', '%Female', '%Male'])\n",
    "df.head()"
   ]
  },
  {
   "cell_type": "code",
   "execution_count": null,
   "metadata": {},
   "outputs": [],
   "source": []
  }
 ]
}