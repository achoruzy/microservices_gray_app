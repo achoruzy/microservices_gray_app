{
 "metadata": {
  "language_info": {
   "codemirror_mode": {
    "name": "ipython",
    "version": 3
   },
   "file_extension": ".py",
   "mimetype": "text/x-python",
   "name": "python",
   "nbconvert_exporter": "python",
   "pygments_lexer": "ipython3",
   "version": "3.8.5"
  },
  "orig_nbformat": 4,
  "kernelspec": {
   "name": "python3",
   "display_name": "Python 3.8.5 64-bit ('base': conda)"
  },
  "interpreter": {
   "hash": "a628e331edb5c70ab686e5c0709bd3041d9873c604fa2fdf88a41c8b36db0522"
  }
 },
 "nbformat": 4,
 "nbformat_minor": 2,
 "cells": [
  {
   "cell_type": "code",
   "execution_count": 10,
   "metadata": {},
   "outputs": [
    {
     "output_type": "stream",
     "name": "stdout",
     "text": [
      "Status code: 200\n"
     ]
    }
   ],
   "source": [
    "import requests\n",
    "import pandas as pd\n",
    "import matplotlib as mpl\n",
    "\n",
    "url = 'https://data.cityofnewyork.us/api/views/7yc5-fec2/rows.csv'\n",
    "url_file = requests.get(url)\n",
    "\n",
    "print('Status code:', url_file.status_code)"
   ]
  },
  {
   "cell_type": "code",
   "execution_count": null,
   "metadata": {},
   "outputs": [],
   "source": [
    "dataset = pd.read_csv(url)\n",
    "dataset.head()"
   ]
  },
  {
   "cell_type": "code",
   "execution_count": 11,
   "metadata": {
    "tags": []
   },
   "outputs": [
    {
     "output_type": "execute_result",
     "data": {
      "text/plain": [
       "                 School Name                                     Category  \\\n",
       "0  P.S. 015 Roberto Clemente                                 All Students   \n",
       "1  P.S. 015 Roberto Clemente  Attend school outside district of residence   \n",
       "2  P.S. 015 Roberto Clemente                    English Language Learners   \n",
       "3  P.S. 015 Roberto Clemente                                      Poverty   \n",
       "4  P.S. 015 Roberto Clemente                  Reside in temporary housing   \n",
       "\n",
       "   Total Enrollment #Female #Male  \n",
       "0             162.0      79    83  \n",
       "1              37.0      24    13  \n",
       "2              16.0       7     9  \n",
       "3             162.0      79    83  \n",
       "4              65.0      26    39  "
      ],
      "text/html": "<div>\n<style scoped>\n    .dataframe tbody tr th:only-of-type {\n        vertical-align: middle;\n    }\n\n    .dataframe tbody tr th {\n        vertical-align: top;\n    }\n\n    .dataframe thead th {\n        text-align: right;\n    }\n</style>\n<table border=\"1\" class=\"dataframe\">\n  <thead>\n    <tr style=\"text-align: right;\">\n      <th></th>\n      <th>School Name</th>\n      <th>Category</th>\n      <th>Total Enrollment</th>\n      <th>#Female</th>\n      <th>#Male</th>\n    </tr>\n  </thead>\n  <tbody>\n    <tr>\n      <th>0</th>\n      <td>P.S. 015 Roberto Clemente</td>\n      <td>All Students</td>\n      <td>162.0</td>\n      <td>79</td>\n      <td>83</td>\n    </tr>\n    <tr>\n      <th>1</th>\n      <td>P.S. 015 Roberto Clemente</td>\n      <td>Attend school outside district of residence</td>\n      <td>37.0</td>\n      <td>24</td>\n      <td>13</td>\n    </tr>\n    <tr>\n      <th>2</th>\n      <td>P.S. 015 Roberto Clemente</td>\n      <td>English Language Learners</td>\n      <td>16.0</td>\n      <td>7</td>\n      <td>9</td>\n    </tr>\n    <tr>\n      <th>3</th>\n      <td>P.S. 015 Roberto Clemente</td>\n      <td>Poverty</td>\n      <td>162.0</td>\n      <td>79</td>\n      <td>83</td>\n    </tr>\n    <tr>\n      <th>4</th>\n      <td>P.S. 015 Roberto Clemente</td>\n      <td>Reside in temporary housing</td>\n      <td>65.0</td>\n      <td>26</td>\n      <td>39</td>\n    </tr>\n  </tbody>\n</table>\n</div>"
     },
     "metadata": {},
     "execution_count": 11
    }
   ],
   "source": [
    "df = pd.DataFrame(dataset, columns=['School Name', 'Category', 'Total Enrollment', '#Female', '#Male'])\n",
    "\n",
    "df.head()"
   ]
  },
  {
   "cell_type": "code",
   "execution_count": null,
   "metadata": {},
   "outputs": [],
   "source": [
    "df.columns = [title.lower().replace(\" \", \"_\").replace(\"#\", \"\") for title in df.columns]\n",
    "df.columns"
   ]
  },
  {
   "cell_type": "code",
   "execution_count": 16,
   "metadata": {},
   "outputs": [
    {
     "output_type": "execute_result",
     "data": {
      "text/plain": [
       "school_name          object\n",
       "category             object\n",
       "total_enrollment    float64\n",
       "female               object\n",
       "male                 object\n",
       "dtype: object"
      ]
     },
     "metadata": {},
     "execution_count": 16
    }
   ],
   "source": [
    "df.dtypes"
   ]
  },
  {
   "cell_type": "code",
   "execution_count": 17,
   "metadata": {},
   "outputs": [
    {
     "output_type": "execute_result",
     "data": {
      "text/plain": [
       "school_name           6\n",
       "category              0\n",
       "total_enrollment    223\n",
       "female                0\n",
       "male                  0\n",
       "dtype: int64"
      ]
     },
     "metadata": {},
     "execution_count": 17
    }
   ],
   "source": [
    "df1 = df.dropna()\n",
    "df.isnull().sum()"
   ]
  },
  {
   "cell_type": "code",
   "execution_count": 18,
   "metadata": {},
   "outputs": [
    {
     "output_type": "execute_result",
     "data": {
      "text/plain": [
       "school_name         0\n",
       "category            0\n",
       "total_enrollment    0\n",
       "female              0\n",
       "male                0\n",
       "dtype: int64"
      ]
     },
     "metadata": {},
     "execution_count": 18
    }
   ],
   "source": [
    "df1.isnull().sum()"
   ]
  },
  {
   "cell_type": "code",
   "execution_count": 19,
   "metadata": {},
   "outputs": [],
   "source": [
    "df1 = df1.drop(df1[(df1.total_enrollment == 's') | (df1.female == 's') | (df1.male == 's')].index)"
   ]
  },
  {
   "cell_type": "code",
   "execution_count": 20,
   "metadata": {},
   "outputs": [
    {
     "output_type": "execute_result",
     "data": {
      "text/plain": [
       "school_name         object\n",
       "category            object\n",
       "total_enrollment     int32\n",
       "female               int32\n",
       "male                 int32\n",
       "dtype: object"
      ]
     },
     "metadata": {},
     "execution_count": 20
    }
   ],
   "source": [
    "datatypes = {'school_name': str,\n",
    "            'category': str,\n",
    "            'total_enrollment': int,\n",
    "            'female': int,\n",
    "            'male': int}\n",
    "\n",
    "df1 = df1.astype(datatypes)\n",
    "df1.dtypes"
   ]
  },
  {
   "cell_type": "code",
   "execution_count": 21,
   "metadata": {},
   "outputs": [
    {
     "output_type": "execute_result",
     "data": {
      "text/plain": [
       "                 school_name                                     category  \\\n",
       "0  P.S. 015 Roberto Clemente                                 All Students   \n",
       "1  P.S. 015 Roberto Clemente  Attend school outside district of residence   \n",
       "2  P.S. 015 Roberto Clemente                    English Language Learners   \n",
       "3  P.S. 015 Roberto Clemente                                      Poverty   \n",
       "4  P.S. 015 Roberto Clemente                  Reside in temporary housing   \n",
       "\n",
       "   total_enrollment  female  male  \n",
       "0               162      79    83  \n",
       "1                37      24    13  \n",
       "2                16       7     9  \n",
       "3               162      79    83  \n",
       "4                65      26    39  "
      ],
      "text/html": "<div>\n<style scoped>\n    .dataframe tbody tr th:only-of-type {\n        vertical-align: middle;\n    }\n\n    .dataframe tbody tr th {\n        vertical-align: top;\n    }\n\n    .dataframe thead th {\n        text-align: right;\n    }\n</style>\n<table border=\"1\" class=\"dataframe\">\n  <thead>\n    <tr style=\"text-align: right;\">\n      <th></th>\n      <th>school_name</th>\n      <th>category</th>\n      <th>total_enrollment</th>\n      <th>female</th>\n      <th>male</th>\n    </tr>\n  </thead>\n  <tbody>\n    <tr>\n      <th>0</th>\n      <td>P.S. 015 Roberto Clemente</td>\n      <td>All Students</td>\n      <td>162</td>\n      <td>79</td>\n      <td>83</td>\n    </tr>\n    <tr>\n      <th>1</th>\n      <td>P.S. 015 Roberto Clemente</td>\n      <td>Attend school outside district of residence</td>\n      <td>37</td>\n      <td>24</td>\n      <td>13</td>\n    </tr>\n    <tr>\n      <th>2</th>\n      <td>P.S. 015 Roberto Clemente</td>\n      <td>English Language Learners</td>\n      <td>16</td>\n      <td>7</td>\n      <td>9</td>\n    </tr>\n    <tr>\n      <th>3</th>\n      <td>P.S. 015 Roberto Clemente</td>\n      <td>Poverty</td>\n      <td>162</td>\n      <td>79</td>\n      <td>83</td>\n    </tr>\n    <tr>\n      <th>4</th>\n      <td>P.S. 015 Roberto Clemente</td>\n      <td>Reside in temporary housing</td>\n      <td>65</td>\n      <td>26</td>\n      <td>39</td>\n    </tr>\n  </tbody>\n</table>\n</div>"
     },
     "metadata": {},
     "execution_count": 21
    }
   ],
   "source": [
    "df1.head()"
   ]
  },
  {
   "cell_type": "code",
   "execution_count": 29,
   "metadata": {},
   "outputs": [
    {
     "output_type": "execute_result",
     "data": {
      "text/plain": [
       "['school_name']"
      ]
     },
     "metadata": {},
     "execution_count": 29
    }
   ],
   "source": [
    "df2 = pd.DataFrame(df1, columns=[\"school_name\"])\n",
    "df2.drop_duplicates(inplace=True, ignore_index=True)\n",
    "list(df2.columns)"
   ]
  },
  {
   "cell_type": "code",
   "execution_count": 21,
   "metadata": {},
   "outputs": [
    {
     "output_type": "execute_result",
     "data": {
      "text/plain": [
       "                                      category\n",
       "0                                 All Students\n",
       "1  Attend school outside district of residence\n",
       "2                    English Language Learners\n",
       "3                                      Poverty\n",
       "4                  Reside in temporary housing\n",
       "5                   Students with Disabilities"
      ],
      "text/html": "<div>\n<style scoped>\n    .dataframe tbody tr th:only-of-type {\n        vertical-align: middle;\n    }\n\n    .dataframe tbody tr th {\n        vertical-align: top;\n    }\n\n    .dataframe thead th {\n        text-align: right;\n    }\n</style>\n<table border=\"1\" class=\"dataframe\">\n  <thead>\n    <tr style=\"text-align: right;\">\n      <th></th>\n      <th>category</th>\n    </tr>\n  </thead>\n  <tbody>\n    <tr>\n      <th>0</th>\n      <td>All Students</td>\n    </tr>\n    <tr>\n      <th>1</th>\n      <td>Attend school outside district of residence</td>\n    </tr>\n    <tr>\n      <th>2</th>\n      <td>English Language Learners</td>\n    </tr>\n    <tr>\n      <th>3</th>\n      <td>Poverty</td>\n    </tr>\n    <tr>\n      <th>4</th>\n      <td>Reside in temporary housing</td>\n    </tr>\n    <tr>\n      <th>5</th>\n      <td>Students with Disabilities</td>\n    </tr>\n  </tbody>\n</table>\n</div>"
     },
     "metadata": {},
     "execution_count": 21
    }
   ],
   "source": [
    "df3 = pd.DataFrame(df1, columns=[\"category\"])\n",
    "df3.drop_duplicates(inplace=True, ignore_index=True)\n",
    "df3"
   ]
  },
  {
   "cell_type": "code",
   "execution_count": 1,
   "metadata": {},
   "outputs": [
    {
     "output_type": "execute_result",
     "data": {
      "text/plain": [
       "['school_name', 'category', 'total_enrollment', 'female', 'male']"
      ]
     },
     "metadata": {},
     "execution_count": 1
    }
   ],
   "source": [
    " columns_to_use_raw = [\n",
    "        \"School Name\",\n",
    "        \"Category\",\n",
    "        \"Total Enrollment\",\n",
    "        \"#Female\",\n",
    "        \"#Male\",\n",
    "    ]\n",
    "\n",
    "columns_to_use_final = [col.lower().replace(\" \", \"_\").replace(\"#\", \"\") for col in columns_to_use_raw]\n",
    "\n",
    "columns_to_use_final"
   ]
  },
  {
   "cell_type": "code",
   "execution_count": 5,
   "metadata": {},
   "outputs": [
    {
     "output_type": "execute_result",
     "data": {
      "text/plain": [
       "{'school_name': str,\n",
       " 'category': str,\n",
       " 'total_enrollment': int,\n",
       " 'female': int,\n",
       " 'male': int}"
      ]
     },
     "metadata": {},
     "execution_count": 5
    }
   ],
   "source": [
    "COLUMNS = {\n",
    "    \"School Name\": str,\n",
    "    \"Category\": str,\n",
    "    \"Total Enrollment\": int,\n",
    "    \"#Female\": int,\n",
    "    \"#Male\": int,\n",
    "}\n",
    "\n",
    "columns_to_use = [col.lower().replace(\" \", \"_\").replace(\"#\", \"\") for col in COLUMNS.keys()]\n",
    "datatypes = {col.lower().replace(\" \", \"_\").replace(\"#\", \"\") : typ for (col, typ) in COLUMNS.items()}\n",
    "columns_to_use\n",
    "datatypes"
   ]
  },
  {
   "cell_type": "code",
   "execution_count": null,
   "metadata": {},
   "outputs": [],
   "source": []
  }
 ]
}