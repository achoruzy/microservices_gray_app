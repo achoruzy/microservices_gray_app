{
 "metadata": {
  "language_info": {
   "codemirror_mode": {
    "name": "ipython",
    "version": 3
   },
   "file_extension": ".py",
   "mimetype": "text/x-python",
   "name": "python",
   "nbconvert_exporter": "python",
   "pygments_lexer": "ipython3",
   "version": "3.8.5"
  },
  "orig_nbformat": 4,
  "kernelspec": {
   "name": "python3",
   "display_name": "Python 3.8.5 64-bit ('base': conda)"
  },
  "interpreter": {
   "hash": "a628e331edb5c70ab686e5c0709bd3041d9873c604fa2fdf88a41c8b36db0522"
  }
 },
 "nbformat": 4,
 "nbformat_minor": 2,
 "cells": [
  {
   "cell_type": "code",
   "execution_count": 3,
   "metadata": {},
   "outputs": [
    {
     "output_type": "stream",
     "name": "stdout",
     "text": [
      "Status code: 200\n"
     ]
    }
   ],
   "source": [
    "import requests\n",
    "import pandas as pd\n",
    "import matplotlib as mpl\n",
    "\n",
    "url = 'https://data.cityofnewyork.us/api/views/7yc5-fec2/rows.csv'\n",
    "url_file = requests.get(url)\n",
    "\n",
    "print('Status code:', url_file.status_code)"
   ]
  },
  {
   "cell_type": "code",
   "execution_count": 4,
   "metadata": {},
   "outputs": [
    {
     "output_type": "execute_result",
     "data": {
      "text/plain": [
       "      DBN                School Name  \\\n",
       "0  01M015  P.S. 015 Roberto Clemente   \n",
       "1  01M015  P.S. 015 Roberto Clemente   \n",
       "2  01M015  P.S. 015 Roberto Clemente   \n",
       "3  01M015  P.S. 015 Roberto Clemente   \n",
       "4  01M015  P.S. 015 Roberto Clemente   \n",
       "\n",
       "                                      Category     Year  Total Enrollment  \\\n",
       "0                                 All Students  2015-16             162.0   \n",
       "1  Attend school outside district of residence  2015-16              37.0   \n",
       "2                    English Language Learners  2015-16              16.0   \n",
       "3                                      Poverty  2015-16             162.0   \n",
       "4                  Reside in temporary housing  2015-16              65.0   \n",
       "\n",
       "  #Grade K #Grade 1 #Grade 2 #Grade 3 #Grade 4  ... MATH #Level 1  \\\n",
       "0       32       33       39       23       17  ...            25   \n",
       "1        7        7       11        7        s  ...             s   \n",
       "2        s        s        s        s        s  ...             s   \n",
       "3       32       33       39       23       17  ...            25   \n",
       "4       12       14       17       10        s  ...            11   \n",
       "\n",
       "         MATH %Level 1 MATH #Level 2       MATH %Level 2 MATH #Level 3  \\\n",
       "0  0.46296296296296297            18  0.3333333333333333             s   \n",
       "1                    s             s                   s             s   \n",
       "2                    s             s                   s             s   \n",
       "3  0.46296296296296297            18  0.3333333333333333             s   \n",
       "4   0.5238095238095238             6  0.2857142857142857             s   \n",
       "\n",
       "  MATH %Level 3 MATH #Level 4 MATH %Level 4 MATH #L3+L4       MATH %L3 + L4  \n",
       "0             s             s             s          11  0.2037037037037037  \n",
       "1             s             s             s           s                   s  \n",
       "2             s             s             s           s                   s  \n",
       "3             s             s             s          11  0.2037037037037037  \n",
       "4             s             s             s           s                   s  \n",
       "\n",
       "[5 rows x 70 columns]"
      ],
      "text/html": "<div>\n<style scoped>\n    .dataframe tbody tr th:only-of-type {\n        vertical-align: middle;\n    }\n\n    .dataframe tbody tr th {\n        vertical-align: top;\n    }\n\n    .dataframe thead th {\n        text-align: right;\n    }\n</style>\n<table border=\"1\" class=\"dataframe\">\n  <thead>\n    <tr style=\"text-align: right;\">\n      <th></th>\n      <th>DBN</th>\n      <th>School Name</th>\n      <th>Category</th>\n      <th>Year</th>\n      <th>Total Enrollment</th>\n      <th>#Grade K</th>\n      <th>#Grade 1</th>\n      <th>#Grade 2</th>\n      <th>#Grade 3</th>\n      <th>#Grade 4</th>\n      <th>...</th>\n      <th>MATH #Level 1</th>\n      <th>MATH %Level 1</th>\n      <th>MATH #Level 2</th>\n      <th>MATH %Level 2</th>\n      <th>MATH #Level 3</th>\n      <th>MATH %Level 3</th>\n      <th>MATH #Level 4</th>\n      <th>MATH %Level 4</th>\n      <th>MATH #L3+L4</th>\n      <th>MATH %L3 + L4</th>\n    </tr>\n  </thead>\n  <tbody>\n    <tr>\n      <th>0</th>\n      <td>01M015</td>\n      <td>P.S. 015 Roberto Clemente</td>\n      <td>All Students</td>\n      <td>2015-16</td>\n      <td>162.0</td>\n      <td>32</td>\n      <td>33</td>\n      <td>39</td>\n      <td>23</td>\n      <td>17</td>\n      <td>...</td>\n      <td>25</td>\n      <td>0.46296296296296297</td>\n      <td>18</td>\n      <td>0.3333333333333333</td>\n      <td>s</td>\n      <td>s</td>\n      <td>s</td>\n      <td>s</td>\n      <td>11</td>\n      <td>0.2037037037037037</td>\n    </tr>\n    <tr>\n      <th>1</th>\n      <td>01M015</td>\n      <td>P.S. 015 Roberto Clemente</td>\n      <td>Attend school outside district of residence</td>\n      <td>2015-16</td>\n      <td>37.0</td>\n      <td>7</td>\n      <td>7</td>\n      <td>11</td>\n      <td>7</td>\n      <td>s</td>\n      <td>...</td>\n      <td>s</td>\n      <td>s</td>\n      <td>s</td>\n      <td>s</td>\n      <td>s</td>\n      <td>s</td>\n      <td>s</td>\n      <td>s</td>\n      <td>s</td>\n      <td>s</td>\n    </tr>\n    <tr>\n      <th>2</th>\n      <td>01M015</td>\n      <td>P.S. 015 Roberto Clemente</td>\n      <td>English Language Learners</td>\n      <td>2015-16</td>\n      <td>16.0</td>\n      <td>s</td>\n      <td>s</td>\n      <td>s</td>\n      <td>s</td>\n      <td>s</td>\n      <td>...</td>\n      <td>s</td>\n      <td>s</td>\n      <td>s</td>\n      <td>s</td>\n      <td>s</td>\n      <td>s</td>\n      <td>s</td>\n      <td>s</td>\n      <td>s</td>\n      <td>s</td>\n    </tr>\n    <tr>\n      <th>3</th>\n      <td>01M015</td>\n      <td>P.S. 015 Roberto Clemente</td>\n      <td>Poverty</td>\n      <td>2015-16</td>\n      <td>162.0</td>\n      <td>32</td>\n      <td>33</td>\n      <td>39</td>\n      <td>23</td>\n      <td>17</td>\n      <td>...</td>\n      <td>25</td>\n      <td>0.46296296296296297</td>\n      <td>18</td>\n      <td>0.3333333333333333</td>\n      <td>s</td>\n      <td>s</td>\n      <td>s</td>\n      <td>s</td>\n      <td>11</td>\n      <td>0.2037037037037037</td>\n    </tr>\n    <tr>\n      <th>4</th>\n      <td>01M015</td>\n      <td>P.S. 015 Roberto Clemente</td>\n      <td>Reside in temporary housing</td>\n      <td>2015-16</td>\n      <td>65.0</td>\n      <td>12</td>\n      <td>14</td>\n      <td>17</td>\n      <td>10</td>\n      <td>s</td>\n      <td>...</td>\n      <td>11</td>\n      <td>0.5238095238095238</td>\n      <td>6</td>\n      <td>0.2857142857142857</td>\n      <td>s</td>\n      <td>s</td>\n      <td>s</td>\n      <td>s</td>\n      <td>s</td>\n      <td>s</td>\n    </tr>\n  </tbody>\n</table>\n<p>5 rows × 70 columns</p>\n</div>"
     },
     "metadata": {},
     "execution_count": 4
    }
   ],
   "source": [
    "dataset = pd.read_csv(url)\n",
    "dataset.head()"
   ]
  },
  {
   "cell_type": "code",
   "execution_count": 5,
   "metadata": {
    "tags": []
   },
   "outputs": [
    {
     "output_type": "execute_result",
     "data": {
      "text/plain": [
       "                 School Name                                     Category  \\\n",
       "0  P.S. 015 Roberto Clemente                                 All Students   \n",
       "1  P.S. 015 Roberto Clemente  Attend school outside district of residence   \n",
       "2  P.S. 015 Roberto Clemente                    English Language Learners   \n",
       "3  P.S. 015 Roberto Clemente                                      Poverty   \n",
       "4  P.S. 015 Roberto Clemente                  Reside in temporary housing   \n",
       "\n",
       "   Total Enrollment #Female #Male  \n",
       "0             162.0      79    83  \n",
       "1              37.0      24    13  \n",
       "2              16.0       7     9  \n",
       "3             162.0      79    83  \n",
       "4              65.0      26    39  "
      ],
      "text/html": "<div>\n<style scoped>\n    .dataframe tbody tr th:only-of-type {\n        vertical-align: middle;\n    }\n\n    .dataframe tbody tr th {\n        vertical-align: top;\n    }\n\n    .dataframe thead th {\n        text-align: right;\n    }\n</style>\n<table border=\"1\" class=\"dataframe\">\n  <thead>\n    <tr style=\"text-align: right;\">\n      <th></th>\n      <th>School Name</th>\n      <th>Category</th>\n      <th>Total Enrollment</th>\n      <th>#Female</th>\n      <th>#Male</th>\n    </tr>\n  </thead>\n  <tbody>\n    <tr>\n      <th>0</th>\n      <td>P.S. 015 Roberto Clemente</td>\n      <td>All Students</td>\n      <td>162.0</td>\n      <td>79</td>\n      <td>83</td>\n    </tr>\n    <tr>\n      <th>1</th>\n      <td>P.S. 015 Roberto Clemente</td>\n      <td>Attend school outside district of residence</td>\n      <td>37.0</td>\n      <td>24</td>\n      <td>13</td>\n    </tr>\n    <tr>\n      <th>2</th>\n      <td>P.S. 015 Roberto Clemente</td>\n      <td>English Language Learners</td>\n      <td>16.0</td>\n      <td>7</td>\n      <td>9</td>\n    </tr>\n    <tr>\n      <th>3</th>\n      <td>P.S. 015 Roberto Clemente</td>\n      <td>Poverty</td>\n      <td>162.0</td>\n      <td>79</td>\n      <td>83</td>\n    </tr>\n    <tr>\n      <th>4</th>\n      <td>P.S. 015 Roberto Clemente</td>\n      <td>Reside in temporary housing</td>\n      <td>65.0</td>\n      <td>26</td>\n      <td>39</td>\n    </tr>\n  </tbody>\n</table>\n</div>"
     },
     "metadata": {},
     "execution_count": 5
    }
   ],
   "source": [
    "df = pd.DataFrame(dataset, columns=['School Name', 'Category', 'Total Enrollment', '#Female', '#Male'])\n",
    "\n",
    "df.head()"
   ]
  },
  {
   "cell_type": "code",
   "execution_count": 6,
   "metadata": {},
   "outputs": [
    {
     "output_type": "execute_result",
     "data": {
      "text/plain": [
       "Index(['school_name', 'category', 'total_enrollment', 'female', 'male'], dtype='object')"
      ]
     },
     "metadata": {},
     "execution_count": 6
    }
   ],
   "source": [
    "df.columns = [title.lower().replace(\" \", \"_\").replace(\"#\", \"\") for title in df.columns]\n",
    "df.columns"
   ]
  },
  {
   "cell_type": "code",
   "execution_count": 7,
   "metadata": {},
   "outputs": [
    {
     "output_type": "execute_result",
     "data": {
      "text/plain": [
       "school_name          object\n",
       "category             object\n",
       "total_enrollment    float64\n",
       "female               object\n",
       "male                 object\n",
       "dtype: object"
      ]
     },
     "metadata": {},
     "execution_count": 7
    }
   ],
   "source": [
    "df.dtypes"
   ]
  },
  {
   "cell_type": "code",
   "execution_count": 8,
   "metadata": {},
   "outputs": [
    {
     "output_type": "execute_result",
     "data": {
      "text/plain": [
       "school_name           6\n",
       "category              0\n",
       "total_enrollment    223\n",
       "female                0\n",
       "male                  0\n",
       "dtype: int64"
      ]
     },
     "metadata": {},
     "execution_count": 8
    }
   ],
   "source": [
    "df1 = df.dropna()\n",
    "df.isnull().sum()"
   ]
  },
  {
   "cell_type": "code",
   "execution_count": 9,
   "metadata": {},
   "outputs": [
    {
     "output_type": "execute_result",
     "data": {
      "text/plain": [
       "school_name         0\n",
       "category            0\n",
       "total_enrollment    0\n",
       "female              0\n",
       "male                0\n",
       "dtype: int64"
      ]
     },
     "metadata": {},
     "execution_count": 9
    }
   ],
   "source": [
    "df1.isnull().sum()"
   ]
  },
  {
   "cell_type": "code",
   "execution_count": 10,
   "metadata": {},
   "outputs": [],
   "source": [
    "df1 = df1.drop(df1[(df1.total_enrollment == 's') | (df1.female == 's') | (df1.male == 's')].index)"
   ]
  },
  {
   "cell_type": "code",
   "execution_count": 11,
   "metadata": {},
   "outputs": [
    {
     "output_type": "execute_result",
     "data": {
      "text/plain": [
       "school_name         object\n",
       "category            object\n",
       "total_enrollment     int32\n",
       "female               int32\n",
       "male                 int32\n",
       "dtype: object"
      ]
     },
     "metadata": {},
     "execution_count": 11
    }
   ],
   "source": [
    "datatypes = {'school_name': str,\n",
    "            'category': str,\n",
    "            'total_enrollment': int,\n",
    "            'female': int,\n",
    "            'male': int}\n",
    "\n",
    "df1 = df1.astype(datatypes)\n",
    "df1.dtypes"
   ]
  },
  {
   "cell_type": "code",
   "execution_count": 12,
   "metadata": {},
   "outputs": [
    {
     "output_type": "execute_result",
     "data": {
      "text/plain": [
       "                 school_name                                     category  \\\n",
       "0  P.S. 015 Roberto Clemente                                 All Students   \n",
       "1  P.S. 015 Roberto Clemente  Attend school outside district of residence   \n",
       "2  P.S. 015 Roberto Clemente                    English Language Learners   \n",
       "3  P.S. 015 Roberto Clemente                                      Poverty   \n",
       "4  P.S. 015 Roberto Clemente                  Reside in temporary housing   \n",
       "\n",
       "   total_enrollment  female  male  \n",
       "0               162      79    83  \n",
       "1                37      24    13  \n",
       "2                16       7     9  \n",
       "3               162      79    83  \n",
       "4                65      26    39  "
      ],
      "text/html": "<div>\n<style scoped>\n    .dataframe tbody tr th:only-of-type {\n        vertical-align: middle;\n    }\n\n    .dataframe tbody tr th {\n        vertical-align: top;\n    }\n\n    .dataframe thead th {\n        text-align: right;\n    }\n</style>\n<table border=\"1\" class=\"dataframe\">\n  <thead>\n    <tr style=\"text-align: right;\">\n      <th></th>\n      <th>school_name</th>\n      <th>category</th>\n      <th>total_enrollment</th>\n      <th>female</th>\n      <th>male</th>\n    </tr>\n  </thead>\n  <tbody>\n    <tr>\n      <th>0</th>\n      <td>P.S. 015 Roberto Clemente</td>\n      <td>All Students</td>\n      <td>162</td>\n      <td>79</td>\n      <td>83</td>\n    </tr>\n    <tr>\n      <th>1</th>\n      <td>P.S. 015 Roberto Clemente</td>\n      <td>Attend school outside district of residence</td>\n      <td>37</td>\n      <td>24</td>\n      <td>13</td>\n    </tr>\n    <tr>\n      <th>2</th>\n      <td>P.S. 015 Roberto Clemente</td>\n      <td>English Language Learners</td>\n      <td>16</td>\n      <td>7</td>\n      <td>9</td>\n    </tr>\n    <tr>\n      <th>3</th>\n      <td>P.S. 015 Roberto Clemente</td>\n      <td>Poverty</td>\n      <td>162</td>\n      <td>79</td>\n      <td>83</td>\n    </tr>\n    <tr>\n      <th>4</th>\n      <td>P.S. 015 Roberto Clemente</td>\n      <td>Reside in temporary housing</td>\n      <td>65</td>\n      <td>26</td>\n      <td>39</td>\n    </tr>\n  </tbody>\n</table>\n</div>"
     },
     "metadata": {},
     "execution_count": 12
    }
   ],
   "source": [
    "df1.head()"
   ]
  },
  {
   "cell_type": "code",
   "execution_count": 20,
   "metadata": {},
   "outputs": [
    {
     "output_type": "execute_result",
     "data": {
      "text/plain": [
       "                                        school_name\n",
       "0                         P.S. 015 Roberto Clemente\n",
       "1                               P.S. 019 Asher Levy\n",
       "2                              P.S. 020 Anna Silver\n",
       "3                         School for Global Leaders\n",
       "4                    P.S. 034 Franklin D. Roosevelt\n",
       "...                                             ...\n",
       "1143             P.S. 377 Alejandrina B. De Gautier\n",
       "1144                   J.H.S. 383 Philippa Schuyler\n",
       "1145               P.S. /I.S. 384 Frances E. Carter\n",
       "1146           All City Leadership Secondary School\n",
       "1147  Evergreen Middle School for Urban Exploration\n",
       "\n",
       "[1148 rows x 1 columns]"
      ],
      "text/html": "<div>\n<style scoped>\n    .dataframe tbody tr th:only-of-type {\n        vertical-align: middle;\n    }\n\n    .dataframe tbody tr th {\n        vertical-align: top;\n    }\n\n    .dataframe thead th {\n        text-align: right;\n    }\n</style>\n<table border=\"1\" class=\"dataframe\">\n  <thead>\n    <tr style=\"text-align: right;\">\n      <th></th>\n      <th>school_name</th>\n    </tr>\n  </thead>\n  <tbody>\n    <tr>\n      <th>0</th>\n      <td>P.S. 015 Roberto Clemente</td>\n    </tr>\n    <tr>\n      <th>1</th>\n      <td>P.S. 019 Asher Levy</td>\n    </tr>\n    <tr>\n      <th>2</th>\n      <td>P.S. 020 Anna Silver</td>\n    </tr>\n    <tr>\n      <th>3</th>\n      <td>School for Global Leaders</td>\n    </tr>\n    <tr>\n      <th>4</th>\n      <td>P.S. 034 Franklin D. Roosevelt</td>\n    </tr>\n    <tr>\n      <th>...</th>\n      <td>...</td>\n    </tr>\n    <tr>\n      <th>1143</th>\n      <td>P.S. 377 Alejandrina B. De Gautier</td>\n    </tr>\n    <tr>\n      <th>1144</th>\n      <td>J.H.S. 383 Philippa Schuyler</td>\n    </tr>\n    <tr>\n      <th>1145</th>\n      <td>P.S. /I.S. 384 Frances E. Carter</td>\n    </tr>\n    <tr>\n      <th>1146</th>\n      <td>All City Leadership Secondary School</td>\n    </tr>\n    <tr>\n      <th>1147</th>\n      <td>Evergreen Middle School for Urban Exploration</td>\n    </tr>\n  </tbody>\n</table>\n<p>1148 rows × 1 columns</p>\n</div>"
     },
     "metadata": {},
     "execution_count": 20
    }
   ],
   "source": [
    "df2 = pd.DataFrame(df1, columns=[\"school_name\"])\n",
    "df2.drop_duplicates(inplace=True, ignore_index=True)\n",
    "df2"
   ]
  },
  {
   "cell_type": "code",
   "execution_count": null,
   "metadata": {},
   "outputs": [],
   "source": [
    "df3 = pd.DataFrame(df1, columns=[\"category\"])\n",
    "df3.drop_duplicates(inplace=True, ignore_index=True)\n",
    "df3"
   ]
  }
 ]
}